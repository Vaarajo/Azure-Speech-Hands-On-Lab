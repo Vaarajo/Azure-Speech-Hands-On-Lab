{
 "cells": [
  {
   "cell_type": "markdown",
   "metadata": {},
   "source": [
    "## Refer to the Speech to Text 3.0 Swagger documentation: https://develop.cris.ai/swagger/ui/index?urls.primaryName=Speech%20Services%20API%20v3.0#"
   ]
  },
  {
   "cell_type": "code",
   "execution_count": null,
   "metadata": {},
   "outputs": [],
   "source": [
    "from azure.storage.blob import BlobServiceClient"
   ]
  },
  {
   "cell_type": "code",
   "execution_count": null,
   "metadata": {},
   "outputs": [],
   "source": [
    "import requests\n",
    "import json\n",
    "import pandas as pd\n",
    "import argparse\n",
    "import time\n",
    "import http.client, urllib.request, urllib.parse, urllib.error, base64"
   ]
  },
  {
   "cell_type": "code",
   "execution_count": null,
   "metadata": {},
   "outputs": [],
   "source": [
    "## Speech to Text region\n",
    "region = \"----------\""
   ]
  },
  {
   "cell_type": "code",
   "execution_count": null,
   "metadata": {},
   "outputs": [],
   "source": [
    "## Speech to Text - subscription key\n",
    "SUBSCRIPTION_KEY = \"--------------\""
   ]
  },
  {
   "cell_type": "code",
   "execution_count": null,
   "metadata": {},
   "outputs": [],
   "source": [
    "## Storage Account connection string and SAS key\n",
    "connect_str = '-----------------'\n",
    "SAS = '----------------------------'"
   ]
  },
  {
   "cell_type": "code",
   "execution_count": null,
   "metadata": {},
   "outputs": [],
   "source": [
    "## storage account - account name and container name. This where we store the audio files\n",
    "container_name = \"--------\"\n",
    "account_name = \"------------\""
   ]
  },
  {
   "cell_type": "code",
   "execution_count": null,
   "metadata": {},
   "outputs": [],
   "source": [
    "## Speech to Text Endpoint for Transcriptions \n",
    "\n",
    "BaseURL =\"https://\" + region + \".api.cognitive.microsoft.com/speechtotext/v3.0/transcriptions/\"\n"
   ]
  },
  {
   "cell_type": "code",
   "execution_count": null,
   "metadata": {},
   "outputs": [],
   "source": [
    "## Storage path\n",
    "STORAGE_PATH=\"https://\" + account_name + \".blob.core.windows.net/\" + container_name + \"/\""
   ]
  },
  {
   "cell_type": "markdown",
   "metadata": {},
   "source": [
    "## Prepare HTTP POST Request Body with associated Speech to Text properties"
   ]
  },
  {
   "cell_type": "code",
   "execution_count": null,
   "metadata": {},
   "outputs": [],
   "source": [
    "## Speech to Text - transcription properties\n",
    "def bulkTranscription(blob_uri, blob_name):\n",
    "    BD = \"\"\"\n",
    "            {\n",
    "                \"contentUrls\": [ \n",
    "                    \"__URL__\"],\n",
    "                \"locale\": \"en-US\",\n",
    "                \"displayName\": \"blob_name\",\n",
    "                \"properties\": {\n",
    "                    \"punctuationMode\": \"Automatic\",\n",
    "                    \"profanityFilterMode\": \"Masked\",\n",
    "                    \"wordLevelTimestampsEnabled\": \"False\",\n",
    "                    \"diarizationEnabled\" : \"True\"\n",
    "                }\n",
    "            }\n",
    "            \"\"\"\n",
    "    BD = BD.replace(\"__URL__\", URL)  \n",
    "    BD = BD.replace(\"blob_name\", blobname)\n",
    "    return BD"
   ]
  },
  {
   "cell_type": "markdown",
   "metadata": {},
   "source": [
    "## Initialize HTTP POST request headers "
   ]
  },
  {
   "cell_type": "code",
   "execution_count": null,
   "metadata": {},
   "outputs": [],
   "source": [
    "headers = {\"Ocp-Apim-Subscription-Key\": SUBSCRIPTION_KEY}\n"
   ]
  },
  {
   "cell_type": "markdown",
   "metadata": {},
   "source": [
    "## Initialize the connection to our Blob storage account and container. Store the list of blobs in blob_list"
   ]
  },
  {
   "cell_type": "code",
   "execution_count": null,
   "metadata": {},
   "outputs": [],
   "source": [
    "blob_service_client = BlobServiceClient.from_connection_string(connect_str)\n",
    "container_client = blob_service_client.get_container_client(container_name)\n",
    "blob_list = container_client.list_blobs()\n"
   ]
  },
  {
   "cell_type": "markdown",
   "metadata": {},
   "source": [
    "## For every blob (audio file) in our storage account container call the Speech to Text REST API and transcribe the audio file"
   ]
  },
  {
   "cell_type": "code",
   "execution_count": null,
   "metadata": {},
   "outputs": [],
   "source": [
    "for blob in blob_list:\n",
    "    print(\"\\t\" + blob.name)\n",
    "    RECORDINGS_BLOB_URI = STORAGE_PATH + blob.name + SAS\n",
    "    URL = RECORDINGS_BLOB_URI\n",
    "    blobname = blob.name\n",
    "    r = requests.post(BaseURL, headers=headers,data=bulkTranscription(URL,blobname))\n",
    "    print(r.text)\n",
    "    js = json.loads(r.text)\n",
    "    print(js)"
   ]
  },
  {
   "cell_type": "code",
   "execution_count": null,
   "metadata": {},
   "outputs": [],
   "source": [
    "headers = {\"Ocp-Apim-Subscription-Key\": SUBSCRIPTION_KEY}\n",
    "r = requests.get(BaseURL, headers=headers)\n",
    "js = json.loads(r.text)"
   ]
  },
  {
   "cell_type": "code",
   "execution_count": null,
   "metadata": {},
   "outputs": [],
   "source": [
    "print(js)"
   ]
  },
  {
   "cell_type": "markdown",
   "metadata": {},
   "source": [
    "## List all transcriptions in either of the following states (Not Started, Running, Succeeded, Failed)"
   ]
  },
  {
   "cell_type": "code",
   "execution_count": null,
   "metadata": {},
   "outputs": [],
   "source": [
    "def listAllTranscriptions() :\n",
    "    import datetime\n",
    "    df = pd.DataFrame(columns=[\"id\",\"name\", \"status\",\"createdDateTime\",\"lastActionDateTime\",\"CallDuration\"])\n",
    "    headers = {\"Ocp-Apim-Subscription-Key\": SUBSCRIPTION_KEY}\n",
    "    r = requests.get(BaseURL, headers=headers)\n",
    "    js = json.loads(r.text)\n",
    "    #print(js)\n",
    "    for TR in js['values']:\n",
    "        if TR[\"status\"] not in (\"Succeeded\")  :\n",
    "            Dur=\"-\"\n",
    "        else :\n",
    "            Dur = TR[\"properties\"][\"duration\"]\n",
    "        df = df.append({\n",
    "         \"id\":                  TR[\"self\"].split('/')[-1],\n",
    "         \"name\":                TR[\"displayName\"],\n",
    "         \"status\":              TR[\"status\"],\n",
    "         \"createdDateTime\":     datetime.datetime.strptime(TR[\"createdDateTime\"],\"%Y-%m-%dT%H:%M:%SZ\"),            \n",
    "         \"lastActionDateTime\":  datetime.datetime.strptime(TR[\"lastActionDateTime\"],\"%Y-%m-%dT%H:%M:%SZ\"),\n",
    "         \"CallDuration\":            Dur      \n",
    "          }, ignore_index=True)\n",
    "        df[\"ProcTime\"] = df[\"lastActionDateTime\"] - df[\"createdDateTime\"]\n",
    "        \n",
    "    return(df)"
   ]
  },
  {
   "cell_type": "code",
   "execution_count": null,
   "metadata": {},
   "outputs": [],
   "source": [
    "headers = {\"Ocp-Apim-Subscription-Key\": SUBSCRIPTION_KEY}\n",
    "r = requests.get(BaseURL, headers=headers)"
   ]
  },
  {
   "cell_type": "code",
   "execution_count": null,
   "metadata": {},
   "outputs": [],
   "source": [
    "listAllTranscriptions()"
   ]
  },
  {
   "cell_type": "code",
   "execution_count": null,
   "metadata": {},
   "outputs": [],
   "source": [
    "transcriptions = listAllTranscriptions()\n"
   ]
  },
  {
   "cell_type": "markdown",
   "metadata": {},
   "source": [
    "## Go through each transcription that finished and is in \"Succeeded\" status and obtain the json output of the transcription. Save the json file locally"
   ]
  },
  {
   "cell_type": "code",
   "execution_count": null,
   "metadata": {},
   "outputs": [],
   "source": [
    "headers = {\n",
    "    # Request headers\n",
    "    'Ocp-Apim-Subscription-Key': SUBSCRIPTION_KEY,\n",
    "}\n",
    "\n",
    "params = urllib.parse.urlencode({\n",
    "    # Request parameters\n",
    "})\n",
    "number_of_rows = len(transcriptions)\n",
    "for index, row in transcriptions.iterrows():\n",
    "    if row[\"status\"] in (\"Succeeded\"):\n",
    "        conn = http.client.HTTPSConnection(region + '.api.cognitive.microsoft.com')\n",
    "        conn.request(\"GET\", \"/speechtotext/v3.0/transcriptions/\" + row[\"id\"] + \"/files?%s\" % params, \"{body}\", headers)\n",
    "        response = conn.getresponse()\n",
    "        data = response.read()\n",
    "        contentUrl = json.loads(data)['values'][0]['links']['contentUrl']\n",
    "        r = requests.get(contentUrl, headers=headers)\n",
    "        json_text = json.loads(r.text)\n",
    "        file_name = row[\"name\"].split('.')[0] + \".json\"\n",
    "        with open(file_name, 'w') as f:\n",
    "            json.dump(json_text, f)"
   ]
  },
  {
   "cell_type": "markdown",
   "metadata": {},
   "source": [
    "## Truncate the transcriptions log "
   ]
  },
  {
   "cell_type": "code",
   "execution_count": null,
   "metadata": {},
   "outputs": [],
   "source": [
    "def deleteAllTranscriptions() :\n",
    "    trs=listAllTranscriptions()\n",
    "    for x in trs[\"id\"] :\n",
    "        print(x)\n",
    "        headers = {\"Ocp-Apim-Subscription-Key\": SUBSCRIPTION_KEY}\n",
    "        r = requests.delete(BaseURL+x, headers=headers)\n",
    "        print(r)"
   ]
  },
  {
   "cell_type": "code",
   "execution_count": null,
   "metadata": {},
   "outputs": [],
   "source": [
    "deleteAllTranscriptions() "
   ]
  },
  {
   "cell_type": "markdown",
   "metadata": {},
   "source": [
    "## Obtain sentiment scores using Text Analytics for each of the utterances from the transcription"
   ]
  },
  {
   "cell_type": "code",
   "execution_count": null,
   "metadata": {},
   "outputs": [],
   "source": [
    "headers = {\"Ocp-Apim-Subscription-Key\": SUBSCRIPTION_KEY}\n",
    "r = requests.get(json.loads(data)['values'][0]['links']['contentUrl'], headers=headers)\n",
    "json_text = json.loads(r.text)"
   ]
  },
  {
   "cell_type": "code",
   "execution_count": null,
   "metadata": {},
   "outputs": [],
   "source": [
    "json_text['combinedRecognizedPhrases'][0]['display']"
   ]
  },
  {
   "cell_type": "code",
   "execution_count": null,
   "metadata": {},
   "outputs": [],
   "source": [
    "TEXT_SUBSCRIPTION_KEY = \"-----------------------------\""
   ]
  },
  {
   "cell_type": "code",
   "execution_count": null,
   "metadata": {},
   "outputs": [],
   "source": [
    "text_headers = {\n",
    "    'Content-Type': 'application/json',\n",
    "    'Ocp-Apim-Subscription-Key': TEXT_SUBSCRIPTION_KEY,\n",
    "}\n",
    "\n",
    "text_params = urllib.parse.urlencode({\n",
    "    # Request parameters\n",
    "})\n",
    "\n",
    "docs = {\"documents\": [\n",
    "           {\n",
    "               \"language\": \"en\",\n",
    "               \"id\" : \"1\",\n",
    "               \"text\": json_text['combinedRecognizedPhrases'][0]['display']\n",
    "               \n",
    "           }\n",
    "]}\n",
    "\n",
    "\n",
    "try:\n",
    "    conn = http.client.HTTPSConnection(region + '.api.cognitive.microsoft.com')\n",
    "    conn.request(\"POST\", \"/text/analytics/v3.1-preview.1/sentiment?%s\" % text_params, json.dumps(docs), text_headers)\n",
    "    response = conn.getresponse()\n",
    "    data = response.read()\n",
    "    \n",
    "    conn.close()\n",
    "except Exception as e:\n",
    "    print(\"[Errno {0}] {1}\".format(e.errno, e.strerror))"
   ]
  },
  {
   "cell_type": "code",
   "execution_count": null,
   "metadata": {},
   "outputs": [],
   "source": [
    "json.loads(data)"
   ]
  },
  {
   "cell_type": "code",
   "execution_count": null,
   "metadata": {},
   "outputs": [],
   "source": []
  }
 ],
 "metadata": {
  "kernelspec": {
   "display_name": "Python 3.7.4 64-bit (conda)",
   "language": "python",
   "name": "python37464bitconda92af5ceb5c3446b4bef67bc2a88383b5"
  },
  "language_info": {
   "codemirror_mode": {
    "name": "ipython",
    "version": 3
   },
   "file_extension": ".py",
   "mimetype": "text/x-python",
   "name": "python",
   "nbconvert_exporter": "python",
   "pygments_lexer": "ipython3",
   "version": "3.7.4"
  }
 },
 "nbformat": 4,
 "nbformat_minor": 2
}
