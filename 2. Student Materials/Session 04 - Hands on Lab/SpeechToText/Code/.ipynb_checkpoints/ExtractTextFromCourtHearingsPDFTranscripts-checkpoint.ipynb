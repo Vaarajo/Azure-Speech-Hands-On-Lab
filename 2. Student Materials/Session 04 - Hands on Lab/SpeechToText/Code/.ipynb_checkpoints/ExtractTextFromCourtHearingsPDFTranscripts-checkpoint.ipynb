{
 "cells": [
  {
   "cell_type": "code",
   "execution_count": null,
   "metadata": {},
   "outputs": [],
   "source": [
    "import PyPDF2"
   ]
  },
  {
   "cell_type": "code",
   "execution_count": null,
   "metadata": {},
   "outputs": [],
   "source": [
    "import os, sys"
   ]
  },
  {
   "cell_type": "code",
   "execution_count": null,
   "metadata": {},
   "outputs": [],
   "source": [
    "files_to_process = []\n",
    "location = '../Data/LanguageAdapation/'"
   ]
  },
  {
   "cell_type": "code",
   "execution_count": null,
   "metadata": {},
   "outputs": [],
   "source": [
    "for f in os.listdir(location):\n",
    "    if os.path.isfile(location + f) and f.split('.')[1] == 'pdf':\n",
    "        files_to_process.append(f)\n",
    "        \n"
   ]
  },
  {
   "cell_type": "code",
   "execution_count": null,
   "metadata": {},
   "outputs": [],
   "source": [
    "files_to_process"
   ]
  },
  {
   "cell_type": "code",
   "execution_count": null,
   "metadata": {},
   "outputs": [],
   "source": [
    "header = \"Official - Subject to Final Review\"\n",
    "footer  = \"Alderson Reporting Company\"\n",
    "\n",
    "pdf_text = \"\"\n",
    "for pdf in files_to_process:\n",
    "    pdfReader = PyPDF2.PdfFileReader(open(location + pdf, 'rb'))\n",
    "    numPages = pdfReader.numPages\n",
    "    readFrom = 10\n",
    "    readTo = numPages - 15\n",
    "    for pagenumber in range(readFrom,readTo+1):\n",
    "        pageObj = pdfReader.getPage(pagenumber)\n",
    "        page_text = pageObj.extractText()\n",
    "        pageObj = ''.join([i for i in page_text if not i.isdigit()])\n",
    "        pageObj = pageObj.strip()\n",
    "        pageObj = pageObj.replace(header,'')\n",
    "        pageObj = pageObj.replace(footer,'')\n",
    "        pageObj = '\\n'.join(pageObj.split('.'))\n",
    "        pdf_text = pdf_text + '\\n' + pageObj\n",
    "\n",
    "        \n",
    "\n",
    "\n",
    "   \n",
    "    "
   ]
  },
  {
   "cell_type": "code",
   "execution_count": null,
   "metadata": {},
   "outputs": [],
   "source": [
    "len(pdf_text)"
   ]
  },
  {
   "cell_type": "code",
   "execution_count": null,
   "metadata": {},
   "outputs": [],
   "source": [
    "text_file = open(location + \"Train/\" + \"languagemodeltraintext.txt\", \"w\", encoding= \"utf-8-sig\")\n",
    "n = text_file.write(pdf_text)\n",
    "text_file.close()"
   ]
  },
  {
   "cell_type": "code",
   "execution_count": null,
   "metadata": {},
   "outputs": [],
   "source": [
    "text_file.close()"
   ]
  }
 ],
 "metadata": {
  "kernelspec": {
   "display_name": "Python 3.7.4 64-bit (conda)",
   "language": "python",
   "name": "python37464bitconda92af5ceb5c3446b4bef67bc2a88383b5"
  },
  "language_info": {
   "codemirror_mode": {
    "name": "ipython",
    "version": 3
   },
   "file_extension": ".py",
   "mimetype": "text/x-python",
   "name": "python",
   "nbconvert_exporter": "python",
   "pygments_lexer": "ipython3",
   "version": "3.7.4"
  }
 },
 "nbformat": 4,
 "nbformat_minor": 2
}
