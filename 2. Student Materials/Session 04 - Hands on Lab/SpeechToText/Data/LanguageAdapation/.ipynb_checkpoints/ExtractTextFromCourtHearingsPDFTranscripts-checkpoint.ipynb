{
 "cells": [
  {
   "cell_type": "code",
   "execution_count": 1,
   "metadata": {},
   "outputs": [],
   "source": [
    "import PyPDF2"
   ]
  },
  {
   "cell_type": "code",
   "execution_count": 2,
   "metadata": {},
   "outputs": [],
   "source": [
    "import os, sys"
   ]
  },
  {
   "cell_type": "code",
   "execution_count": 9,
   "metadata": {},
   "outputs": [],
   "source": [
    "files_to_process = []"
   ]
  },
  {
   "cell_type": "code",
   "execution_count": 10,
   "metadata": {},
   "outputs": [],
   "source": [
    "for f in os.listdir():\n",
    "    if os.path.isfile(f) and f.split('.')[1] == 'pdf':\n",
    "        files_to_process.append(f)\n",
    "        \n"
   ]
  },
  {
   "cell_type": "code",
   "execution_count": 11,
   "metadata": {},
   "outputs": [
    {
     "data": {
      "text/plain": [
       "['08-1191.pdf',\n",
       " '08-1322.pdf',\n",
       " '08-1332.pdf',\n",
       " '08-1371.pdf',\n",
       " '08-1457.pdf',\n",
       " '08-1498.pdf',\n",
       " '08-1553.pdf',\n",
       " '08-1569.pdf',\n",
       " '08-6261.pdf',\n",
       " '08-998.pdf',\n",
       " '09-158.pdf',\n",
       " '09-223.pdf',\n",
       " '09-337.pdf',\n",
       " '09-338.pdf',\n",
       " '09-367.pdf',\n",
       " '09-448.pdf',\n",
       " '09-497.pdf',\n",
       " '09-5201.pdf',\n",
       " '09-559.pdf',\n",
       " '09-60.pdf',\n",
       " '09-6338.pdf']"
      ]
     },
     "execution_count": 11,
     "metadata": {},
     "output_type": "execute_result"
    }
   ],
   "source": [
    "files_to_process"
   ]
  },
  {
   "cell_type": "code",
   "execution_count": 12,
   "metadata": {},
   "outputs": [
    {
     "name": "stderr",
     "output_type": "stream",
     "text": [
      "PdfReadWarning: Xref table not zero-indexed. ID numbers for objects will be corrected. [pdf.py:1736]\n"
     ]
    }
   ],
   "source": [
    "header = \"Official - Subject to Final Review\"\n",
    "footer  = \"Alderson Reporting Company\"\n",
    "\n",
    "pdf_text = \"\"\n",
    "for pdf in files_to_process:\n",
    "    pdfReader = PyPDF2.PdfFileReader(open(pdf, 'rb'))\n",
    "    numPages = pdfReader.numPages\n",
    "    readFrom = 10\n",
    "    readTo = numPages - 15\n",
    "    for pagenumber in range(readFrom,readTo+1):\n",
    "        pageObj = pdfReader.getPage(pagenumber)\n",
    "        page_text = pageObj.extractText()\n",
    "        pageObj = ''.join([i for i in page_text if not i.isdigit()])\n",
    "        pageObj = pageObj.strip()\n",
    "        pageObj = pageObj.replace(header,'')\n",
    "        pageObj = pageObj.replace(footer,'')\n",
    "        pageObj = '\\n'.join(pageObj.split('.'))\n",
    "        pdf_text = pdf_text + '\\n' + pageObj\n",
    "\n",
    "        \n",
    "\n",
    "\n",
    "   \n",
    "    "
   ]
  },
  {
   "cell_type": "code",
   "execution_count": 25,
   "metadata": {},
   "outputs": [
    {
     "data": {
      "text/plain": [
       "1095977"
      ]
     },
     "execution_count": 25,
     "metadata": {},
     "output_type": "execute_result"
    }
   ],
   "source": [
    "len(pdf_text)"
   ]
  },
  {
   "cell_type": "code",
   "execution_count": 15,
   "metadata": {},
   "outputs": [],
   "source": [
    "text_file = open(\"./Train/languagemodeltraintext.txt\", \"w\", encoding= \"utf-8-sig\")\n",
    "n = text_file.write(pdf_text)\n",
    "text_file.close()"
   ]
  },
  {
   "cell_type": "code",
   "execution_count": 16,
   "metadata": {},
   "outputs": [],
   "source": [
    "text_file.close()"
   ]
  },
  {
   "cell_type": "code",
   "execution_count": null,
   "metadata": {},
   "outputs": [],
   "source": []
  }
 ],
 "metadata": {
  "kernelspec": {
   "display_name": "Python 3.7.4 64-bit (conda)",
   "language": "python",
   "name": "python37464bitconda92af5ceb5c3446b4bef67bc2a88383b5"
  },
  "language_info": {
   "codemirror_mode": {
    "name": "ipython",
    "version": 3
   },
   "file_extension": ".py",
   "mimetype": "text/x-python",
   "name": "python",
   "nbconvert_exporter": "python",
   "pygments_lexer": "ipython3",
   "version": "3.7.4"
  }
 },
 "nbformat": 4,
 "nbformat_minor": 2
}
